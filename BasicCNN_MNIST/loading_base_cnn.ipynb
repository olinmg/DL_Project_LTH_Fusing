{
 "cells": [
  {
   "cell_type": "code",
   "execution_count": 6,
   "metadata": {},
   "outputs": [
    {
     "data": {
      "text/plain": [
       "CNN(\n",
       "  (conv1): Sequential(\n",
       "    (0): Conv2d(1, 16, kernel_size=(5, 5), stride=(1, 1), padding=(2, 2))\n",
       "    (1): ReLU()\n",
       "    (2): MaxPool2d(kernel_size=2, stride=2, padding=0, dilation=1, ceil_mode=False)\n",
       "  )\n",
       "  (conv2): Sequential(\n",
       "    (0): Conv2d(16, 32, kernel_size=(5, 5), stride=(1, 1), padding=(2, 2))\n",
       "    (1): ReLU()\n",
       "    (2): MaxPool2d(kernel_size=2, stride=2, padding=0, dilation=1, ceil_mode=False)\n",
       "  )\n",
       "  (out): Linear(in_features=1568, out_features=10, bias=True)\n",
       ")"
      ]
     },
     "execution_count": 6,
     "metadata": {},
     "output_type": "execute_result"
    }
   ],
   "source": [
    "from base_convNN import CNN, train, test, loaders\n",
    "import torch\n",
    "from sklearn.model_selection import train_test_split\n",
    "from torchvision import datasets\n",
    "from torchvision.transforms import ToTensor\n",
    "from torch.utils.data import DataLoader\n",
    "import torch.nn as nn\n",
    "from torch import optim\n",
    "from torch.autograd import Variable\n",
    "device = torch.device('cuda' if torch.cuda.is_available() else 'cpu')\n",
    "\n",
    "MODEL_FILE_NAME = \"./base_cnn_model_dict.pth\"\n",
    "\n",
    "model = CNN()\n",
    "model.load_state_dict(torch.load(MODEL_FILE_NAME))\n",
    "model.eval()"
   ]
  },
  {
   "cell_type": "code",
   "execution_count": 7,
   "metadata": {},
   "outputs": [
    {
     "name": "stdout",
     "output_type": "stream",
     "text": [
      "Test Accuracy of the model on the 10000 test images: 0.98\n",
      "Test Accuracy of the model on the 10000 test images: 0.99\n",
      "Test Accuracy of the model on the 10000 test images: 1.00\n",
      "Test Accuracy of the model on the 10000 test images: 0.98\n",
      "Test Accuracy of the model on the 10000 test images: 1.00\n",
      "Test Accuracy of the model on the 10000 test images: 0.99\n",
      "Test Accuracy of the model on the 10000 test images: 0.99\n",
      "Test Accuracy of the model on the 10000 test images: 0.98\n",
      "Test Accuracy of the model on the 10000 test images: 0.99\n",
      "Test Accuracy of the model on the 10000 test images: 0.99\n",
      "Test Accuracy of the model on the 10000 test images: 0.99\n",
      "Test Accuracy of the model on the 10000 test images: 0.98\n",
      "Test Accuracy of the model on the 10000 test images: 0.99\n",
      "Test Accuracy of the model on the 10000 test images: 0.97\n",
      "Test Accuracy of the model on the 10000 test images: 0.98\n",
      "Test Accuracy of the model on the 10000 test images: 1.00\n",
      "Test Accuracy of the model on the 10000 test images: 0.99\n",
      "Test Accuracy of the model on the 10000 test images: 0.98\n",
      "Test Accuracy of the model on the 10000 test images: 1.00\n",
      "Test Accuracy of the model on the 10000 test images: 1.00\n",
      "Test Accuracy of the model on the 10000 test images: 0.98\n",
      "Test Accuracy of the model on the 10000 test images: 0.97\n",
      "Test Accuracy of the model on the 10000 test images: 0.96\n",
      "Test Accuracy of the model on the 10000 test images: 0.97\n",
      "Test Accuracy of the model on the 10000 test images: 0.97\n",
      "Test Accuracy of the model on the 10000 test images: 0.96\n",
      "Test Accuracy of the model on the 10000 test images: 0.97\n",
      "Test Accuracy of the model on the 10000 test images: 0.97\n",
      "Test Accuracy of the model on the 10000 test images: 0.98\n",
      "Test Accuracy of the model on the 10000 test images: 1.00\n",
      "Test Accuracy of the model on the 10000 test images: 0.98\n",
      "Test Accuracy of the model on the 10000 test images: 0.98\n",
      "Test Accuracy of the model on the 10000 test images: 0.94\n",
      "Test Accuracy of the model on the 10000 test images: 0.99\n",
      "Test Accuracy of the model on the 10000 test images: 1.00\n",
      "Test Accuracy of the model on the 10000 test images: 0.99\n",
      "Test Accuracy of the model on the 10000 test images: 0.97\n",
      "Test Accuracy of the model on the 10000 test images: 0.98\n",
      "Test Accuracy of the model on the 10000 test images: 0.99\n",
      "Test Accuracy of the model on the 10000 test images: 0.99\n",
      "Test Accuracy of the model on the 10000 test images: 0.97\n",
      "Test Accuracy of the model on the 10000 test images: 0.98\n",
      "Test Accuracy of the model on the 10000 test images: 0.96\n",
      "Test Accuracy of the model on the 10000 test images: 0.99\n",
      "Test Accuracy of the model on the 10000 test images: 0.99\n",
      "Test Accuracy of the model on the 10000 test images: 1.00\n",
      "Test Accuracy of the model on the 10000 test images: 1.00\n",
      "Test Accuracy of the model on the 10000 test images: 0.97\n",
      "Test Accuracy of the model on the 10000 test images: 0.98\n",
      "Test Accuracy of the model on the 10000 test images: 0.99\n",
      "Test Accuracy of the model on the 10000 test images: 0.99\n",
      "Test Accuracy of the model on the 10000 test images: 1.00\n",
      "Test Accuracy of the model on the 10000 test images: 1.00\n",
      "Test Accuracy of the model on the 10000 test images: 0.98\n",
      "Test Accuracy of the model on the 10000 test images: 0.98\n",
      "Test Accuracy of the model on the 10000 test images: 0.99\n",
      "Test Accuracy of the model on the 10000 test images: 0.99\n",
      "Test Accuracy of the model on the 10000 test images: 0.98\n",
      "Test Accuracy of the model on the 10000 test images: 0.99\n",
      "Test Accuracy of the model on the 10000 test images: 1.00\n",
      "Test Accuracy of the model on the 10000 test images: 0.99\n",
      "Test Accuracy of the model on the 10000 test images: 0.97\n",
      "Test Accuracy of the model on the 10000 test images: 0.98\n",
      "Test Accuracy of the model on the 10000 test images: 0.97\n",
      "Test Accuracy of the model on the 10000 test images: 0.96\n",
      "Test Accuracy of the model on the 10000 test images: 0.99\n",
      "Test Accuracy of the model on the 10000 test images: 0.98\n",
      "Test Accuracy of the model on the 10000 test images: 0.99\n",
      "Test Accuracy of the model on the 10000 test images: 0.99\n",
      "Test Accuracy of the model on the 10000 test images: 0.99\n",
      "Test Accuracy of the model on the 10000 test images: 0.97\n",
      "Test Accuracy of the model on the 10000 test images: 0.98\n",
      "Test Accuracy of the model on the 10000 test images: 0.99\n",
      "Test Accuracy of the model on the 10000 test images: 0.98\n",
      "Test Accuracy of the model on the 10000 test images: 0.99\n",
      "Test Accuracy of the model on the 10000 test images: 0.97\n",
      "Test Accuracy of the model on the 10000 test images: 0.97\n",
      "Test Accuracy of the model on the 10000 test images: 1.00\n",
      "Test Accuracy of the model on the 10000 test images: 0.99\n",
      "Test Accuracy of the model on the 10000 test images: 0.99\n",
      "Test Accuracy of the model on the 10000 test images: 1.00\n",
      "Test Accuracy of the model on the 10000 test images: 0.98\n",
      "Test Accuracy of the model on the 10000 test images: 0.96\n",
      "Test Accuracy of the model on the 10000 test images: 1.00\n",
      "Test Accuracy of the model on the 10000 test images: 0.98\n",
      "Test Accuracy of the model on the 10000 test images: 1.00\n",
      "Test Accuracy of the model on the 10000 test images: 0.99\n",
      "Test Accuracy of the model on the 10000 test images: 0.99\n",
      "Test Accuracy of the model on the 10000 test images: 0.97\n",
      "Test Accuracy of the model on the 10000 test images: 0.99\n",
      "Test Accuracy of the model on the 10000 test images: 1.00\n",
      "Test Accuracy of the model on the 10000 test images: 1.00\n",
      "Test Accuracy of the model on the 10000 test images: 0.99\n",
      "Test Accuracy of the model on the 10000 test images: 0.97\n",
      "Test Accuracy of the model on the 10000 test images: 0.99\n",
      "Test Accuracy of the model on the 10000 test images: 0.99\n",
      "Test Accuracy of the model on the 10000 test images: 0.98\n",
      "Test Accuracy of the model on the 10000 test images: 0.99\n",
      "Test Accuracy of the model on the 10000 test images: 0.97\n",
      "Test Accuracy of the model on the 10000 test images: 0.98\n"
     ]
    }
   ],
   "source": [
    "test(model)"
   ]
  },
  {
   "cell_type": "code",
   "execution_count": 5,
   "metadata": {},
   "outputs": [
    {
     "name": "stdout",
     "output_type": "stream",
     "text": [
      "Prediction number: [9 9 2 4 1 5 3 1 2 4]\n",
      "Actual number: [9 9 2 4 1 5 3 1 2 4]\n"
     ]
    }
   ],
   "source": [
    "sample = next(iter(loaders['test']))\n",
    "imgs, lbls = sample\n",
    "actual_number = lbls[:10].numpy()\n",
    "test_output, last_layer = model(imgs[:10])\n",
    "pred_y = torch.max(test_output, 1)[1].data.numpy().squeeze()\n",
    "print(f'Prediction number: {pred_y}')\n",
    "print(f'Actual number: {actual_number}')"
   ]
  },
  {
   "cell_type": "code",
   "execution_count": null,
   "metadata": {},
   "outputs": [],
   "source": []
  }
 ],
 "metadata": {
  "kernelspec": {
   "display_name": "Python 3.8.2 64-bit",
   "language": "python",
   "name": "python3"
  },
  "language_info": {
   "codemirror_mode": {
    "name": "ipython",
    "version": 3
   },
   "file_extension": ".py",
   "mimetype": "text/x-python",
   "name": "python",
   "nbconvert_exporter": "python",
   "pygments_lexer": "ipython3",
   "version": "3.8.2"
  },
  "orig_nbformat": 4,
  "vscode": {
   "interpreter": {
    "hash": "ae11af3dd824303bdf98d82400f8623b01fac62b84629e16d4627dff341efce3"
   }
  }
 },
 "nbformat": 4,
 "nbformat_minor": 2
}
